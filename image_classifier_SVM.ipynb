{
  "nbformat": 4,
  "nbformat_minor": 0,
  "metadata": {
    "colab": {
      "name": "image_classifier_SVM.ipynb",
      "provenance": [],
      "collapsed_sections": []
    },
    "kernelspec": {
      "name": "python3",
      "display_name": "Python 3"
    },
    "language_info": {
      "name": "python"
    }
  },
  "cells": [
    {
      "cell_type": "code",
      "execution_count": null,
      "metadata": {
        "colab": {
          "base_uri": "https://localhost:8080/"
        },
        "id": "5tK0d2zMctNu",
        "outputId": "3e547216-ce15-43e2-f7bf-745d2bebebe3"
      },
      "outputs": [
        {
          "output_type": "stream",
          "name": "stdout",
          "text": [
            "Mounted at /content/drive\n"
          ]
        }
      ],
      "source": [
        "import pandas as pd\n",
        "import numpy as np\n",
        "import os\n",
        "import tensorflow as tf\n",
        "import cv2\n",
        "import keras\n",
        "from keras.models import Sequential, Model\n",
        "from keras.layers import Dense, Conv2D, Dropout, Flatten, MaxPooling2D\n",
        "from  matplotlib import pyplot as plt\n",
        "import matplotlib.image as mpimg\n",
        "%matplotlib inline\n",
        "from sklearn.svm import SVC\n",
        "from sklearn.neighbors import KNeighborsClassifier\n",
        "from google.colab import drive\n",
        "drive.mount('/content/drive')"
      ]
    },
    {
      "cell_type": "code",
      "source": [
        "IMG_WIDTH=500\n",
        "IMG_HEIGHT=500\n"
      ],
      "metadata": {
        "id": "XKctY5nddBsG"
      },
      "execution_count": null,
      "outputs": []
    },
    {
      "cell_type": "code",
      "source": [
        "def create_dataset(img_folder):\n",
        "   \n",
        "    img_data_array=[]\n",
        "    class_name=[]\n",
        "   \n",
        "    for dir1 in os.listdir(img_folder):\n",
        "        for file in os.listdir(os.path.join(img_folder, dir1)):\n",
        "       \n",
        "            image_path= os.path.join(img_folder, dir1,  file)\n",
        "            image= cv2.imread(image_path, cv2.COLOR_BGR2GRAY)    # input gray image  \n",
        "            \n",
        "            image=cv2.resize(image, (IMG_HEIGHT, IMG_WIDTH),interpolation = cv2.INTER_AREA) # resize the image\n",
        "            img_blur = cv2.GaussianBlur(image, (3, 3), 0) # Gaussian blur the image\n",
        "            edges = cv2.Canny(image=img_blur, threshold1=100, threshold2=200)  # Canny Edge Detection\n",
        "            kernel = np.ones((5,5), np.uint8)\n",
        "            image = cv2.dilate(edges, kernel, iterations=1)\n",
        "            \n",
        "            image=np.array(image)\n",
        "            if image.all == 0:\n",
        "              continue\n",
        "            temp = np.zeros((IMG_WIDTH,IMG_HEIGHT,1))\n",
        "            temp[:,:,0] = image\n",
        "            image = temp\n",
        "            image = image.astype('float32')\n",
        "            image /= 255 \n",
        "            image\n",
        "            \n",
        "            img_data_array.append(image.flatten())\n",
        "            class_name.append(dir1)\n",
        "    return img_data_array, class_name"
      ],
      "metadata": {
        "id": "6R4aP2bTdImO"
      },
      "execution_count": null,
      "outputs": []
    },
    {
      "cell_type": "code",
      "source": [
        "# extract the image array and class name\n",
        "X_train, y_train =create_dataset(r'drive/MyDrive/Colab Notebooks/Train1')\n",
        "X_test, y_test =create_dataset(r'drive/MyDrive/Colab Notebooks/Test')"
      ],
      "metadata": {
        "id": "rqMtI5pQdMVp"
      },
      "execution_count": null,
      "outputs": []
    },
    {
      "cell_type": "code",
      "source": [
        "print(X_train[0].shape)"
      ],
      "metadata": {
        "colab": {
          "base_uri": "https://localhost:8080/"
        },
        "id": "kFYmGAsihsqA",
        "outputId": "f1dc211b-9324-484b-93c7-94c2606bd3c9"
      },
      "execution_count": null,
      "outputs": [
        {
          "output_type": "stream",
          "name": "stdout",
          "text": [
            "(250000,)\n"
          ]
        }
      ]
    },
    {
      "cell_type": "code",
      "source": [
        "train_dict={k: v for v, k in enumerate(np.unique(y_train))}\n",
        "train_val=  [train_dict[y_train[i]] for i in range(len(y_train))]\n",
        "test_dict={k: v for v, k in enumerate(np.unique(y_test))}\n",
        "test_val=  [test_dict[y_test[i]] for i in range(len(y_test))]\n",
        "cars = np.unique(y_test)\n",
        "# print(train_val)"
      ],
      "metadata": {
        "id": "AxIBJoOgdN63"
      },
      "execution_count": null,
      "outputs": []
    },
    {
      "cell_type": "code",
      "source": [
        "svm = SVC(kernel='poly')\n",
        "svm.fit(X_train, train_val)\n"
      ],
      "metadata": {
        "colab": {
          "base_uri": "https://localhost:8080/"
        },
        "id": "_Wr2xIyxfZa5",
        "outputId": "c35cd6f5-3e1e-4789-bb28-fa0360f51186"
      },
      "execution_count": null,
      "outputs": [
        {
          "output_type": "execute_result",
          "data": {
            "text/plain": [
              "SVC(kernel='poly')"
            ]
          },
          "metadata": {},
          "execution_count": 8
        }
      ]
    },
    {
      "cell_type": "code",
      "source": [
        "knn = KNeighborsClassifier(n_neighbors=7)\n",
        "knn.fit(X_train, train_val)\n"
      ],
      "metadata": {
        "colab": {
          "base_uri": "https://localhost:8080/"
        },
        "id": "XjhLmVWffc_z",
        "outputId": "0487319c-3c13-4a91-9efe-274a12770e0e"
      },
      "execution_count": null,
      "outputs": [
        {
          "output_type": "execute_result",
          "data": {
            "text/plain": [
              "KNeighborsClassifier(n_neighbors=7)"
            ]
          },
          "metadata": {},
          "execution_count": 9
        }
      ]
    },
    {
      "cell_type": "code",
      "source": [
        "svm_score = svm.score(X_test, test_val)\n",
        "knn_score = knn.score(X_test, test_val)"
      ],
      "metadata": {
        "id": "GVeAfaO5vn9A"
      },
      "execution_count": null,
      "outputs": []
    },
    {
      "cell_type": "code",
      "source": [
        "print(\"SVM accuracy \", \"{:.2f}\".format(svm_score*100), \"%\")\n",
        "print(\"KNN accuracy \", \"{:.2f}\".format(knn_score*100), \"%\")"
      ],
      "metadata": {
        "colab": {
          "base_uri": "https://localhost:8080/"
        },
        "id": "gUejRikrKzr9",
        "outputId": "5906ca7e-4d91-418e-deb3-8af598d73cc2"
      },
      "execution_count": null,
      "outputs": [
        {
          "output_type": "stream",
          "name": "stdout",
          "text": [
            "SVM accuracy  15.24 %\n",
            "KNN accuracy  11.43 %\n"
          ]
        }
      ]
    },
    {
      "cell_type": "code",
      "source": [
        ""
      ],
      "metadata": {
        "id": "KexGHvqYLHLQ"
      },
      "execution_count": null,
      "outputs": []
    }
  ]
}